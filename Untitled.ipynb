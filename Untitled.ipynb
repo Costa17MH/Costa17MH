{
  "nbformat": 4,
  "nbformat_minor": 0,
  "metadata": {
    "colab": {
      "provenance": [],
      "authorship_tag": "ABX9TyPb5TCcvbIoatg+N/RnmpPc",
      "include_colab_link": true
    },
    "kernelspec": {
      "name": "python3",
      "display_name": "Python 3"
    },
    "language_info": {
      "name": "python"
    }
  },
  "cells": [
    {
      "cell_type": "markdown",
      "metadata": {
        "id": "view-in-github",
        "colab_type": "text"
      },
      "source": [
        "<a href=\"https://colab.research.google.com/github/Costa17MH/Costa17MH/blob/main/Untitled.ipynb\" target=\"_parent\"><img src=\"https://colab.research.google.com/assets/colab-badge.svg\" alt=\"Open In Colab\"/></a>"
      ]
    },
    {
      "cell_type": "code",
      "execution_count": 6,
      "metadata": {
        "colab": {
          "base_uri": "https://localhost:8080/"
        },
        "id": "RKrJ9c1bIroj",
        "outputId": "51de9208-f788-4f02-e7ee-d930b4a7a6e9"
      },
      "outputs": [
        {
          "output_type": "stream",
          "name": "stdout",
          "text": [
            "hello wold!\n"
          ]
        }
      ],
      "source": [
        "#hello wold é o começo de tudo!!\n",
        "print(\"hello wold!\")"
      ]
    },
    {
      "cell_type": "code",
      "source": [
        "from os import name\n",
        "x = 10\n",
        "nome = 'aluno'\n",
        "nota = 8.75\n",
        "fez_inscrição = True\n",
        "print (type (x))\n",
        "print (type(name))\n",
        "print (type(nota))\n",
        "print (type(fez_inscrição))\n"
      ],
      "metadata": {
        "id": "ibVN6KHeR19y"
      },
      "execution_count": null,
      "outputs": []
    }
  ]
}